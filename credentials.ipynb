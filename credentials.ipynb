{
 "cells": [
  {
   "cell_type": "markdown",
   "metadata": {},
   "source": [
    "# Refinitiv API Library Examples - Helpers"
   ]
  },
  {
   "cell_type": "markdown",
   "metadata": {},
   "source": [
    "This script provides helpers for other Jupyter Notebook examples that demonstrate the Refinitiv API Library"
   ]
  },
  {
   "cell_type": "code",
   "execution_count": null,
   "metadata": {},
   "outputs": [],
   "source": [
    "import getpass"
   ]
  },
  {
   "cell_type": "code",
   "execution_count": null,
   "metadata": {},
   "outputs": [],
   "source": [
    "def get_app_key():\n",
    "    try:\n",
    "        app_key = %env APP_KEY\n",
    "    except:\n",
    "        app_key = input('Please input App Key:')        \n",
    "    return app_key"
   ]
  },
  {
   "cell_type": "code",
   "execution_count": null,
   "metadata": {},
   "outputs": [],
   "source": [
    "def get_rdp_login():\n",
    "    try:\n",
    "        rdp_login = %env RDP_LOGIN\n",
    "    except:\n",
    "        rdp_login = input('Please input Refinitiv Data Platform login:')        \n",
    "    return rdp_login"
   ]
  },
  {
   "cell_type": "code",
   "execution_count": null,
   "metadata": {},
   "outputs": [],
   "source": [
    "def get_rdp_password():\n",
    "    try:\n",
    "        rdp_password = %env RDP_PASSWORD\n",
    "    except:\n",
    "        rdp_password = getpass.getpass('Please input Refinitiv Data Platform password:')        \n",
    "    return rdp_password"
   ]
  }
 ],
 "metadata": {
  "kernelspec": {
   "display_name": "Python 3",
   "language": "python",
   "name": "python3"
  },
  "language_info": {
   "codemirror_mode": {
    "name": "ipython",
    "version": 3
   },
   "file_extension": ".py",
   "mimetype": "text/x-python",
   "name": "python",
   "nbconvert_exporter": "python",
   "pygments_lexer": "ipython3",
   "version": "3.7.3"
  }
 },
 "nbformat": 4,
 "nbformat_minor": 4
}
